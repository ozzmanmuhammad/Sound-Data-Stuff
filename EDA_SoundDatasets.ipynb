{
  "nbformat": 4,
  "nbformat_minor": 0,
  "metadata": {
    "colab": {
      "name": "EDA_SoundDatasets.ipynb",
      "provenance": [],
      "authorship_tag": "ABX9TyPMhot8CoOLDyJTR4rjhnOS",
      "include_colab_link": true
    },
    "kernelspec": {
      "name": "python3",
      "display_name": "Python 3"
    },
    "language_info": {
      "name": "python"
    }
  },
  "cells": [
    {
      "cell_type": "markdown",
      "metadata": {
        "id": "view-in-github",
        "colab_type": "text"
      },
      "source": [
        "<a href=\"https://colab.research.google.com/github/ozzmanmuhammad/Sound-Data-Stuff/blob/main/EDA_SoundDatasets.ipynb\" target=\"_parent\"><img src=\"https://colab.research.google.com/assets/colab-badge.svg\" alt=\"Open In Colab\"/></a>"
      ]
    },
    {
      "cell_type": "markdown",
      "source": [
        "# EDA of Sound Data\n",
        "\n",
        "We'll be using Mutagen library, other libraries are also present and can be used such as:\n",
        "\n",
        "\n",
        "*   Audioread\n",
        "*   Scipy\n",
        "*   Librosa\n",
        "\n",
        "And can be used to analyse following type of audio files\n",
        "\n",
        "* wav (Waveform Audio File) format\n",
        "* mp3 (MPEG-1 Audio Layer 3) format\n",
        "* WMA (Windows Media Audio) format\n",
        "\n"
      ],
      "metadata": {
        "id": "pdLG3W56vFrw"
      }
    },
    {
      "cell_type": "code",
      "source": [
        "import os"
      ],
      "metadata": {
        "id": "A9aIpX84zdNb"
      },
      "execution_count": 9,
      "outputs": []
    },
    {
      "cell_type": "code",
      "execution_count": 2,
      "metadata": {
        "colab": {
          "base_uri": "https://localhost:8080/"
        },
        "id": "eU9YmAnzu_LA",
        "outputId": "6573a24a-0e42-4bb5-8e74-da29986ae28a"
      },
      "outputs": [
        {
          "output_type": "stream",
          "name": "stdout",
          "text": [
            "Looking in indexes: https://pypi.org/simple, https://us-python.pkg.dev/colab-wheels/public/simple/\n",
            "Collecting mutagen\n",
            "  Downloading mutagen-1.45.1-py3-none-any.whl (218 kB)\n",
            "\u001b[K     |████████████████████████████████| 218 kB 20.9 MB/s \n",
            "\u001b[?25hInstalling collected packages: mutagen\n",
            "Successfully installed mutagen-1.45.1\n"
          ]
        }
      ],
      "source": [
        "# installation\n",
        "!pip install mutagen"
      ]
    },
    {
      "cell_type": "markdown",
      "source": [
        "## Downloading Random sound data from kaggle \n",
        "\n",
        "Note: It'll will not work for others.. you have to upload your own dataset or download it from kaggle"
      ],
      "metadata": {
        "id": "PElCoi2dyfyZ"
      }
    },
    {
      "cell_type": "code",
      "source": [
        "!pip install kaggle"
      ],
      "metadata": {
        "id": "swmGpfncv-Iy"
      },
      "execution_count": null,
      "outputs": []
    },
    {
      "cell_type": "code",
      "source": [
        "# !rm -r ~/.kaggle\n",
        "!mkdir ~/.kaggle\n",
        "!mv ./kaggle.json ~/.kaggle/\n",
        "!chmod 600 ~/.kaggle/kaggle.json"
      ],
      "metadata": {
        "id": "E1Z0uzqKyuNt"
      },
      "execution_count": null,
      "outputs": []
    },
    {
      "cell_type": "code",
      "source": [
        "!kaggle datasets download -d kenjee/z-by-hp-unlocked-challenge-3-signal-processing"
      ],
      "metadata": {
        "colab": {
          "base_uri": "https://localhost:8080/"
        },
        "id": "PIwO2702zKKL",
        "outputId": "5a852b1e-17a7-46ce-d465-30a3f08a179d"
      },
      "execution_count": 7,
      "outputs": [
        {
          "output_type": "stream",
          "name": "stdout",
          "text": [
            "Downloading z-by-hp-unlocked-challenge-3-signal-processing.zip to /content\n",
            "100% 602M/604M [00:05<00:00, 181MB/s]\n",
            "100% 604M/604M [00:05<00:00, 110MB/s]\n"
          ]
        }
      ]
    },
    {
      "cell_type": "code",
      "source": [
        "os.rename(\"z-by-hp-unlocked-challenge-3-signal-processing.zip\",\"data.zip\")"
      ],
      "metadata": {
        "id": "Lht9bKouzPcs"
      },
      "execution_count": 10,
      "outputs": []
    },
    {
      "cell_type": "code",
      "source": [
        "import zipfile\n",
        "zip_ref = zipfile.ZipFile('/content/data.zip', \"r\")\n",
        "zip_ref.extractall()\n",
        "zip_ref.close()"
      ],
      "metadata": {
        "id": "ewtYJRXGzbZI"
      },
      "execution_count": 11,
      "outputs": []
    },
    {
      "cell_type": "markdown",
      "source": [
        "## Sound Data Analysis"
      ],
      "metadata": {
        "id": "IGNJKRb1zr9E"
      }
    },
    {
      "cell_type": "code",
      "source": [
        "import mutagen\n",
        "from mutagen.wave import WAVE\n",
        "from mutagen.mp3 import MP3"
      ],
      "metadata": {
        "id": "JwtXAnpIz1Lg"
      },
      "execution_count": 15,
      "outputs": []
    },
    {
      "cell_type": "code",
      "source": [
        "# function to convert the information into \n",
        "# some readable format\n",
        "def audio_duration(length):\n",
        "    hours = length // 3600  # calculate in hours\n",
        "    length %= 3600\n",
        "    mins = length // 60  # calculate in minutes\n",
        "    length %= 60\n",
        "    seconds = length  # calculate in seconds\n",
        "  \n",
        "    return hours, mins, seconds  # returns the duratio"
      ],
      "metadata": {
        "id": "AcZ3eNREz8DY"
      },
      "execution_count": 14,
      "outputs": []
    },
    {
      "cell_type": "code",
      "source": [
        "# testing single file..\n",
        "audio = MP3(\"/content/Forest Recordings/recording_00.mp3\")\n",
        "  \n",
        "# contains all the metadata about the wavpack file\n",
        "audio_info = audio.info\n",
        "length = int(audio_info.length)\n",
        "hours, mins, seconds = audio_duration(length)\n",
        "print('Total Duration: {}:{}:{}'.format(hours, mins, seconds))"
      ],
      "metadata": {
        "colab": {
          "base_uri": "https://localhost:8080/"
        },
        "id": "tYUJC9qr0Ef1",
        "outputId": "5f2680d9-79f0-481e-f5ac-0a27d8f8f7ff"
      },
      "execution_count": 16,
      "outputs": [
        {
          "output_type": "stream",
          "name": "stdout",
          "text": [
            "Total Duration: 0:3:0\n"
          ]
        }
      ]
    },
    {
      "cell_type": "code",
      "source": [
        "import glob\n",
        "import pandas as pd"
      ],
      "metadata": {
        "id": "gzIepB7A1FQn"
      },
      "execution_count": 20,
      "outputs": []
    },
    {
      "cell_type": "code",
      "source": [
        "# Reading entire folder\n",
        "time = {}\n",
        "for file in (glob.iglob('/content/Forest Recordings'+\"/*\", recursive=True)):\n",
        "\n",
        "    audio = MP3(file)\n",
        "  \n",
        "    # contains all the metadata about the wavpack file\n",
        "    audio_info = audio.info\n",
        "    length = int(audio_info.length)\n",
        "    hours, mins, seconds = audio_duration(length)\n",
        "    totalTime = f\"{hours}:{mins}:{seconds}\"\n",
        "    print(f\"File:{file.split('/')[-1]}, totalTime:{totalTime}\")\n",
        "    time = {'Filenames':file.split('/')[-1], 'Total Time':totalTime}\n",
        "    df = pd.DataFrame(time, index=[0])\n",
        "    df.to_csv(\"output.csv\", mode='a', header=None)"
      ],
      "metadata": {
        "colab": {
          "base_uri": "https://localhost:8080/"
        },
        "id": "bS0ZREhk0f8A",
        "outputId": "918b6862-b9dd-4cf2-a4f2-dab25b93517d"
      },
      "execution_count": 24,
      "outputs": [
        {
          "output_type": "stream",
          "name": "stdout",
          "text": [
            "File:recording_75.mp3, totalTime:0:3:0\n",
            "File:recording_49.mp3, totalTime:0:3:0\n",
            "File:recording_97.mp3, totalTime:0:3:0\n",
            "File:recording_32.mp3, totalTime:0:3:0\n",
            "File:recording_99.mp3, totalTime:0:3:0\n",
            "File:recording_11.mp3, totalTime:0:3:0\n",
            "File:recording_68.mp3, totalTime:0:3:0\n",
            "File:recording_39.mp3, totalTime:0:3:0\n",
            "File:recording_54.mp3, totalTime:0:3:0\n",
            "File:recording_70.mp3, totalTime:0:3:0\n",
            "File:recording_57.mp3, totalTime:0:3:0\n",
            "File:recording_28.mp3, totalTime:0:3:0\n",
            "File:recording_44.mp3, totalTime:0:3:0\n",
            "File:recording_85.mp3, totalTime:0:3:0\n",
            "File:recording_64.mp3, totalTime:0:3:0\n",
            "File:recording_51.mp3, totalTime:0:3:0\n",
            "File:recording_14.mp3, totalTime:0:3:0\n",
            "File:recording_24.mp3, totalTime:0:3:0\n",
            "File:recording_82.mp3, totalTime:0:3:0\n",
            "File:recording_27.mp3, totalTime:0:3:0\n",
            "File:recording_59.mp3, totalTime:0:3:0\n",
            "File:recording_84.mp3, totalTime:0:3:0\n",
            "File:recording_77.mp3, totalTime:0:3:0\n",
            "File:recording_15.mp3, totalTime:0:3:0\n",
            "File:recording_37.mp3, totalTime:0:3:0\n",
            "File:recording_06.mp3, totalTime:0:3:0\n",
            "File:recording_08.mp3, totalTime:0:3:0\n",
            "File:recording_10.mp3, totalTime:0:3:0\n",
            "File:recording_56.mp3, totalTime:0:3:0\n",
            "File:recording_43.mp3, totalTime:0:3:0\n",
            "File:recording_03.mp3, totalTime:0:3:0\n",
            "File:recording_22.mp3, totalTime:0:3:0\n",
            "File:recording_90.mp3, totalTime:0:3:0\n",
            "File:recording_98.mp3, totalTime:0:3:0\n",
            "File:recording_48.mp3, totalTime:0:3:0\n",
            "File:recording_53.mp3, totalTime:0:3:0\n",
            "File:recording_69.mp3, totalTime:0:3:0\n",
            "File:recording_29.mp3, totalTime:0:3:0\n",
            "File:recording_72.mp3, totalTime:0:3:0\n",
            "File:recording_42.mp3, totalTime:0:3:0\n",
            "File:recording_30.mp3, totalTime:0:3:0\n",
            "File:recording_00.mp3, totalTime:0:3:0\n",
            "File:recording_47.mp3, totalTime:0:3:0\n",
            "File:recording_07.mp3, totalTime:0:3:0\n",
            "File:recording_88.mp3, totalTime:0:3:0\n",
            "File:recording_61.mp3, totalTime:0:3:0\n",
            "File:recording_38.mp3, totalTime:0:3:0\n",
            "File:recording_26.mp3, totalTime:0:3:0\n",
            "File:recording_35.mp3, totalTime:0:3:0\n",
            "File:recording_04.mp3, totalTime:0:3:0\n",
            "File:recording_45.mp3, totalTime:0:3:0\n",
            "File:recording_36.mp3, totalTime:0:3:0\n",
            "File:recording_93.mp3, totalTime:0:3:0\n",
            "File:recording_95.mp3, totalTime:0:3:0\n",
            "File:recording_80.mp3, totalTime:0:3:0\n",
            "File:recording_09.mp3, totalTime:0:3:0\n",
            "File:recording_19.mp3, totalTime:0:3:0\n",
            "File:recording_18.mp3, totalTime:0:3:0\n",
            "File:recording_41.mp3, totalTime:0:3:0\n",
            "File:recording_34.mp3, totalTime:0:3:0\n",
            "File:recording_78.mp3, totalTime:0:3:0\n",
            "File:recording_31.mp3, totalTime:0:3:0\n",
            "File:recording_91.mp3, totalTime:0:3:0\n",
            "File:recording_55.mp3, totalTime:0:3:0\n",
            "File:recording_17.mp3, totalTime:0:3:0\n",
            "File:recording_60.mp3, totalTime:0:3:0\n",
            "File:recording_94.mp3, totalTime:0:3:0\n",
            "File:recording_87.mp3, totalTime:0:3:0\n",
            "File:recording_25.mp3, totalTime:0:3:0\n",
            "File:recording_73.mp3, totalTime:0:3:0\n",
            "File:recording_65.mp3, totalTime:0:3:0\n",
            "File:recording_89.mp3, totalTime:0:3:0\n",
            "File:recording_66.mp3, totalTime:0:3:0\n",
            "File:recording_01.mp3, totalTime:0:3:0\n",
            "File:recording_79.mp3, totalTime:0:3:0\n",
            "File:recording_21.mp3, totalTime:0:3:0\n",
            "File:recording_52.mp3, totalTime:0:3:0\n",
            "File:recording_63.mp3, totalTime:0:3:0\n",
            "File:recording_13.mp3, totalTime:0:3:0\n",
            "File:recording_05.mp3, totalTime:0:3:0\n",
            "File:recording_33.mp3, totalTime:0:3:0\n",
            "File:recording_71.mp3, totalTime:0:3:0\n",
            "File:recording_16.mp3, totalTime:0:3:0\n",
            "File:recording_86.mp3, totalTime:0:3:0\n",
            "File:recording_83.mp3, totalTime:0:3:0\n",
            "File:recording_96.mp3, totalTime:0:3:0\n",
            "File:recording_62.mp3, totalTime:0:3:0\n",
            "File:recording_40.mp3, totalTime:0:3:0\n",
            "File:recording_74.mp3, totalTime:0:3:0\n",
            "File:recording_20.mp3, totalTime:0:3:0\n",
            "File:recording_67.mp3, totalTime:0:3:0\n",
            "File:recording_12.mp3, totalTime:0:3:0\n",
            "File:recording_58.mp3, totalTime:0:3:0\n",
            "File:recording_02.mp3, totalTime:0:3:0\n",
            "File:recording_76.mp3, totalTime:0:3:0\n",
            "File:recording_81.mp3, totalTime:0:3:0\n",
            "File:recording_92.mp3, totalTime:0:3:0\n",
            "File:recording_50.mp3, totalTime:0:3:0\n",
            "File:recording_23.mp3, totalTime:0:3:0\n",
            "File:recording_46.mp3, totalTime:0:3:0\n"
          ]
        }
      ]
    },
    {
      "cell_type": "code",
      "source": [
        ""
      ],
      "metadata": {
        "id": "VcN1pBEN079W"
      },
      "execution_count": null,
      "outputs": []
    }
  ]
}